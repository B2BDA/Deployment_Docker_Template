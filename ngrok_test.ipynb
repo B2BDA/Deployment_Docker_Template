{
  "nbformat": 4,
  "nbformat_minor": 0,
  "metadata": {
    "colab": {
      "name": "ngrok_test.ipynb",
      "provenance": [],
      "collapsed_sections": [],
      "authorship_tag": "ABX9TyNJyERyRfG8zZyzWGrzeVpq",
      "include_colab_link": true
    },
    "kernelspec": {
      "name": "python3",
      "display_name": "Python 3"
    }
  },
  "cells": [
    {
      "cell_type": "markdown",
      "metadata": {
        "id": "view-in-github",
        "colab_type": "text"
      },
      "source": [
        "<a href=\"https://colab.research.google.com/github/B2BDA/Deployment_Docker_Template/blob/main/ngrok_test.ipynb\" target=\"_parent\"><img src=\"https://colab.research.google.com/assets/colab-badge.svg\" alt=\"Open In Colab\"/></a>"
      ]
    },
    {
      "cell_type": "code",
      "metadata": {
        "colab": {
          "base_uri": "https://localhost:8080/"
        },
        "id": "U91tnXcQqNYm",
        "outputId": "988ddf85-2af2-4202-a2e1-d94eacf9626c"
      },
      "source": [
        "! ngrok authtoken 1kaFny2xbj2twPP94X1EVLNeb6f_3sMPwNxe7Aj2xy8TLZARc"
      ],
      "execution_count": 13,
      "outputs": [
        {
          "output_type": "stream",
          "text": [
            "Authtoken saved to configuration file: /root/.ngrok2/ngrok.yml\n"
          ],
          "name": "stdout"
        }
      ]
    },
    {
      "cell_type": "markdown",
      "metadata": {
        "id": "pS1fjDKloy-H"
      },
      "source": [
        "!pip install pyngrok\n",
        "!pip install Flask\n"
      ]
    },
    {
      "cell_type": "code",
      "metadata": {
        "id": "p5f4gF_5oIm-"
      },
      "source": [
        "from flask import Flask\n",
        "from pyngrok import ngrok"
      ],
      "execution_count": 12,
      "outputs": []
    },
    {
      "cell_type": "code",
      "metadata": {
        "id": "hD7cLV7_o5Np"
      },
      "source": [
        "app = Flask(__name__)"
      ],
      "execution_count": 8,
      "outputs": []
    },
    {
      "cell_type": "code",
      "metadata": {
        "id": "9s4YeRN9pHtN"
      },
      "source": [
        "@app.route(\"/\")\n",
        "def greeting():\n",
        "  return \"Hello World\""
      ],
      "execution_count": 9,
      "outputs": []
    },
    {
      "cell_type": "code",
      "metadata": {
        "colab": {
          "base_uri": "https://localhost:8080/"
        },
        "id": "6iwqFuCMpjcd",
        "outputId": "d80ee604-d853-4d42-c139-29a9eb2811f8"
      },
      "source": [
        "if __name__ == '__main__':\n",
        "  app.run()"
      ],
      "execution_count": null,
      "outputs": [
        {
          "output_type": "stream",
          "text": [
            " * Serving Flask app \"__main__\" (lazy loading)\n",
            " * Environment: production\n",
            "\u001b[31m   WARNING: This is a development server. Do not use it in a production deployment.\u001b[0m\n",
            "\u001b[2m   Use a production WSGI server instead.\u001b[0m\n",
            " * Debug mode: off\n"
          ],
          "name": "stdout"
        },
        {
          "output_type": "stream",
          "text": [
            " * Running on http://127.0.0.1:5000/ (Press CTRL+C to quit)\n"
          ],
          "name": "stderr"
        }
      ]
    },
    {
      "cell_type": "code",
      "metadata": {
        "colab": {
          "base_uri": "https://localhost:8080/"
        },
        "id": "8MoEWFaippHZ",
        "outputId": "19e7f1db-af4f-4584-9648-8dd50201d596"
      },
      "source": [
        "ngrok.kill()\n",
        "public_url = ngrok.connect('5000')\n",
        "public_url"
      ],
      "execution_count": 14,
      "outputs": [
        {
          "output_type": "execute_result",
          "data": {
            "text/plain": [
              "<NgrokTunnel: \"http://0c798791a0c3.ngrok.io\" -> \"http://localhost:5000\">"
            ]
          },
          "metadata": {
            "tags": []
          },
          "execution_count": 14
        }
      ]
    },
    {
      "cell_type": "code",
      "metadata": {
        "id": "Ic5ST8IdrI5Y"
      },
      "source": [
        ""
      ],
      "execution_count": null,
      "outputs": []
    }
  ]
}